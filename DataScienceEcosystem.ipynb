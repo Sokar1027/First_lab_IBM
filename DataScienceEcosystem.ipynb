{
 "cells": [
  {
   "cell_type": "markdown",
   "id": "0d30f260-42f6-42ea-8aa6-807c3d317b6b",
   "metadata": {},
   "source": [
    "# Data Science Tools and Ecosystem"
   ]
  },
  {
   "cell_type": "markdown",
   "id": "8f42c335-cc18-4577-a0c7-57579d640ba3",
   "metadata": {},
   "source": [
    "### In this notebook, Data Science Tools and Ecosystem are summarized"
   ]
  },
  {
   "cell_type": "markdown",
   "id": "29ce627e-05c5-4c0e-b4cf-18feacea68eb",
   "metadata": {},
   "source": [
    "#### **Objectives:**\n",
    "\n",
    "- create and introduction of the notebook\n",
    "- List popular languages for Data Science\n",
    "- List commonly libraries used for Data Science\n",
    "- examples of arithmetic expressions"
   ]
  },
  {
   "cell_type": "markdown",
   "id": "99222312-6bc4-4807-9e31-f9afd6189e3a",
   "metadata": {},
   "source": [
    "#### Some of the popular languages that Data Scientist use:\n",
    "1. python\n",
    "2. R\n",
    "3. SQL"
   ]
  },
  {
   "cell_type": "markdown",
   "id": "fd0fd750-6025-4994-b6c2-7b14cf736b96",
   "metadata": {},
   "source": [
    "#### Some of the commonly used libraries used by Data Scientist include:\n",
    "\n",
    "1. Scikit-learn\n",
    "2. Numpy\n",
    "3. Pandas\n",
    "4. Seaborn\n",
    "5. Matplotlib"
   ]
  },
  {
   "cell_type": "markdown",
   "id": "6b877a0e-a097-47a6-ad5b-c04e84913678",
   "metadata": {},
   "source": [
    "| Data Science Tools|\n",
    "|-------------------|\n",
    "| My SQL|\n",
    "| PostgreSQL |\n",
    "| MongoDB |\n",
    "| Apache CouchDB |\n"
   ]
  },
  {
   "cell_type": "markdown",
   "id": "594d3b84-a8ac-4185-b238-a767e5e1ba67",
   "metadata": {},
   "source": [
    "### Below are a few examples of evaluating arithmetic expressions in Python"
   ]
  },
  {
   "cell_type": "code",
   "execution_count": 10,
   "id": "3505c303-6f0a-4897-a890-d1c8c1e9e3c7",
   "metadata": {},
   "outputs": [
    {
     "data": {
      "text/plain": [
       "17"
      ]
     },
     "execution_count": 10,
     "metadata": {},
     "output_type": "execute_result"
    }
   ],
   "source": [
    "# This a simple arithmetic expression to multiply then add integers \n",
    "(3*4)+5"
   ]
  },
  {
   "cell_type": "code",
   "execution_count": 16,
   "id": "5cf313f8-006f-4ffd-812a-ae94f3aad655",
   "metadata": {},
   "outputs": [
    {
     "data": {
      "text/plain": [
       "3.3333333333333335"
      ]
     },
     "execution_count": 16,
     "metadata": {},
     "output_type": "execute_result"
    }
   ],
   "source": [
    "# This will convert 200 minutes to hours by diving by 60 \n",
    "200/60"
   ]
  },
  {
   "cell_type": "markdown",
   "id": "bd6535be-f8a7-44fd-8ef1-5d9075d9ab45",
   "metadata": {},
   "source": [
    "## Author\n",
    "Santiago Zuluaga\n",
    "\n",
    "Author"
   ]
  },
  {
   "cell_type": "code",
   "execution_count": null,
   "id": "98ea95c9-7efc-47fb-a0ef-1bd14e66b4f8",
   "metadata": {},
   "outputs": [],
   "source": []
  }
 ],
 "metadata": {
  "kernelspec": {
   "display_name": "Python 3 (ipykernel)",
   "language": "python",
   "name": "python3"
  },
  "language_info": {
   "codemirror_mode": {
    "name": "ipython",
    "version": 3
   },
   "file_extension": ".py",
   "mimetype": "text/x-python",
   "name": "python",
   "nbconvert_exporter": "python",
   "pygments_lexer": "ipython3",
   "version": "3.12.7"
  }
 },
 "nbformat": 4,
 "nbformat_minor": 5
}
